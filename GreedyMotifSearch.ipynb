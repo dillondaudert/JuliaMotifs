{
 "cells": [
  {
   "cell_type": "markdown",
   "metadata": {},
   "source": [
    "# Greedy Algorithm for Motif Finding\n",
    "\n",
    "This is an approximate greedy algorithm. Although the approximation ratio is unknown, it often performs well in practice, and is quite simple."
   ]
  },
  {
   "cell_type": "code",
   "execution_count": 9,
   "metadata": {},
   "outputs": [],
   "source": [
    "include(\"utils.jl\")\n",
    "# utils.jl has the align, getprofile, and score utility functions:\n",
    "\n",
    "seqs = [\"AGTGGATACC\", # motif inserted at 4\n",
    "        \"AGGATATAGT\", # 2\n",
    "        \"AGGAGGATAT\", # 5\n",
    "        \"GCAGCGGATA\", # 5\n",
    "        \"CATCAGGATA\"] # 6\n",
    "s = [1, 1, 1, 1, 1]\n",
    "l = 5;"
   ]
  },
  {
   "cell_type": "code",
   "execution_count": 10,
   "metadata": {},
   "outputs": [
    {
     "data": {
      "text/plain": [
       "motifsearch_greedy (generic function with 1 method)"
      ]
     },
     "execution_count": 10,
     "metadata": {},
     "output_type": "execute_result"
    }
   ],
   "source": [
    "function motifsearch_greedy(sequences, l)\n",
    "    \"\"\"\n",
    "    Given a 2D array of strings *sequences*, greedy \n",
    "    search for a motif of length *l*.\n",
    "    Return an array of indices corresponding to the \n",
    "    alignment found with the highest score.\n",
    "    \"\"\"\n",
    "    # TODO: Check that l <= sequence length\n",
    "    bestmotif = ones(Int32, 2)\n",
    "    \n",
    "    for s₁ = 1:length(sequences[1])-l+1\n",
    "        for s₂ = 1:length(sequences[2])-l+1\n",
    "            # find best partial alignment of first 2 sequences \n",
    "            if score(sequences, [s₁, s₂], l) > score(sequences, bestmotif, l)\n",
    "                bestmotif = [s₁, s₂]\n",
    "            end\n",
    "        end\n",
    "    end\n",
    "    s = copy(bestmotif)\n",
    "    \n",
    "    #iterate through the rest of the sequences\n",
    "    for i = 3:length(sequences)\n",
    "        # extend the default best motif\n",
    "        push!(bestmotif, 1)\n",
    "        for sᵢ = 1:length(sequences[i])-l+1\n",
    "            if score(sequences, [s..., sᵢ], l) > score(sequences, bestmotif, l)\n",
    "                # update the best motif\n",
    "                bestmotif[i] = sᵢ\n",
    "            end\n",
    "        end\n",
    "        push!(s, bestmotif[i])\n",
    "    end\n",
    "    return bestmotif\n",
    "end"
   ]
  },
  {
   "cell_type": "code",
   "execution_count": 11,
   "metadata": {},
   "outputs": [
    {
     "data": {
      "text/plain": [
       "5-element Array{Int64,1}:\n",
       " 4\n",
       " 2\n",
       " 5\n",
       " 6\n",
       " 6"
      ]
     },
     "metadata": {},
     "output_type": "display_data"
    },
    {
     "data": {
      "text/plain": [
       "5-element Array{Any,1}:\n",
       " \"GGATA\"\n",
       " \"GGATA\"\n",
       " \"GGATA\"\n",
       " \"GGATA\"\n",
       " \"GGATA\""
      ]
     },
     "metadata": {},
     "output_type": "display_data"
    },
    {
     "data": {
      "text/plain": [
       "4×5 Array{Int32,2}:\n",
       " 0  0  5  0  5\n",
       " 0  0  0  5  0\n",
       " 0  0  0  0  0\n",
       " 5  5  0  0  0"
      ]
     },
     "metadata": {},
     "output_type": "display_data"
    },
    {
     "data": {
      "text/plain": [
       "25"
      ]
     },
     "execution_count": 11,
     "metadata": {},
     "output_type": "execute_result"
    }
   ],
   "source": [
    "motif = motifsearch_greedy(seqs, l)\n",
    "alignment = align(seqs, motif, l)\n",
    "profile = getprofile(alignment)\n",
    "display(motif)\n",
    "display(alignment)\n",
    "display(profile)\n",
    "score(profile)"
   ]
  },
  {
   "cell_type": "code",
   "execution_count": null,
   "metadata": {
    "collapsed": true
   },
   "outputs": [],
   "source": []
  }
 ],
 "metadata": {
  "kernelspec": {
   "display_name": "Julia 0.6.0",
   "language": "julia",
   "name": "julia-0.6"
  },
  "language_info": {
   "file_extension": ".jl",
   "mimetype": "application/julia",
   "name": "julia",
   "version": "0.6.0"
  }
 },
 "nbformat": 4,
 "nbformat_minor": 2
}
