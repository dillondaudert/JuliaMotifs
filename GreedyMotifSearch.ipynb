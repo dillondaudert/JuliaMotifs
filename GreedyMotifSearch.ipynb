{
 "cells": [
  {
   "cell_type": "markdown",
   "metadata": {},
   "source": [
    "# Greedy Algorithm for Motif Finding\n",
    "\n",
    "This is an approximate greedy algorithm. Although the approximation ratio is unknown, it often performs well in practice, and is quite simple."
   ]
  },
  {
   "cell_type": "code",
   "execution_count": 15,
   "metadata": {},
   "outputs": [
    {
     "data": {
      "text/plain": [
       "score (generic function with 1 method)"
      ]
     },
     "execution_count": 15,
     "metadata": {},
     "output_type": "execute_result"
    }
   ],
   "source": [
    "# DNA maps nucleotide letters to array indices\n",
    "DNA = Dict(\"A\" => 1, \"T\" => 2, \"C\" => 3, \"G\" => 4)\n",
    "\n",
    "function score(sequences, s, l)\n",
    "   \"\"\"\n",
    "    Return the integer score of the alignment of\n",
    "    substrings in *sequences* of length l.\n",
    "    If length(s) < length(sequences), then\n",
    "    this will be the score of a partial alignment.\n",
    "    \"\"\"\n",
    "    profile = zeros(Int32, 4, l)\n",
    "    for i = 1:size(s, 1)\n",
    "       for j = 0:l-1\n",
    "            # for each sequence, count occurrences\n",
    "            nucl = sequences[i][[s[i]+j]]\n",
    "            profile[DNA[nucl], j+1] += 1\n",
    "        end\n",
    "    end\n",
    "    # sum the maximum values for each position, return\n",
    "    score = sum(maximum(profile, 1))\n",
    "end"
   ]
  },
  {
   "cell_type": "code",
   "execution_count": 18,
   "metadata": {},
   "outputs": [
    {
     "data": {
      "text/plain": [
       "7"
      ]
     },
     "execution_count": 18,
     "metadata": {},
     "output_type": "execute_result"
    }
   ],
   "source": [
    "seqs = [\"AGT\", \n",
    "        \"ATA\", \n",
    "        \"AGG\",\n",
    "        \"GCA\"]\n",
    "score(seqs, (1, 1, 1, 1), 3)"
   ]
  },
  {
   "cell_type": "code",
   "execution_count": null,
   "metadata": {
    "collapsed": true
   },
   "outputs": [],
   "source": [
    "function motifsearch_greedy(sequences, l)\n",
    "    \"\"\"\n",
    "    Given a 2D array of strings *sequences*, greedy \n",
    "    search for a motif of length *l*.\n",
    "    Return an array of indices corresponding to the \n",
    "    alignment found with the highest score.\n",
    "    \"\"\"\n",
    "    # TODO: Check that l <= sequence length\n",
    "    bestmotif = ones(Int32, 2)\n",
    "    \n",
    "    for s₁ = 1:length(sequences[1])-l+1\n",
    "        for s₂ = 1:length(sequences[2])-l+1\n",
    "            # find best partial alignment of first 2 sequences \n",
    "            if score(sequences, [s₁, s₂], l) > score(sequences, bestmotif, l)\n",
    "                 bestmotif = [s₁, s₂]\n",
    "            end\n",
    "        end\n",
    "    end\n",
    "    s = bestmotif\n",
    "    \n",
    "    #iterate through the rest of the sequences\n",
    "    for i = 3:length(sequences)\n",
    "        # extend the default best motif\n",
    "        push!(bestmotif, 1)\n",
    "        for sᵢ = 1:length(sequences[i])\n",
    "            if score(sequences, [s..., sᵢ], l) > score(sequences, bestmotif, l)\n",
    "                # update the best motif\n",
    "                bestmotif[i] = sᵢ\n",
    "            end\n",
    "        end\n",
    "        s = bestmotif\n",
    "    end\n",
    "    return bestmotif\n",
    "end"
   ]
  }
 ],
 "metadata": {
  "kernelspec": {
   "display_name": "Julia 0.6.0",
   "language": "julia",
   "name": "julia-0.6"
  },
  "language_info": {
   "file_extension": ".jl",
   "mimetype": "application/julia",
   "name": "julia",
   "version": "0.6.0"
  }
 },
 "nbformat": 4,
 "nbformat_minor": 2
}
