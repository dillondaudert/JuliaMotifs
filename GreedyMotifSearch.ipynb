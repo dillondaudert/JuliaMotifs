{
 "cells": [
  {
   "cell_type": "markdown",
   "metadata": {},
   "source": [
    "# Greedy Algorithm for Motif Finding\n",
    "\n",
    "This is an approximate greedy algorithm. Although the approximation ratio is unknown, it often performs well in practice, and is quite simple."
   ]
  },
  {
   "cell_type": "code",
   "execution_count": 1,
   "metadata": {
    "collapsed": true
   },
   "outputs": [],
   "source": [
    "include(\"utils.jl\")\n",
    "# utils.jl has the align, getprofile, and score utility functions:\n",
    "\n",
    "seqs = [\"AGTGGATACC\", # motif GGA inserted at 4\n",
    "        \"AGGATATAGT\", # 2\n",
    "        \"AGGAGGATAT\", # 5\n",
    "        \"GCAGCGGATA\", # 5\n",
    "        \"CATCAGGATA\"] # 6\n",
    "s = [1, 1, 1, 1, 1]\n",
    "l = 5;"
   ]
  },
  {
   "cell_type": "code",
   "execution_count": 2,
   "metadata": {},
   "outputs": [
    {
     "data": {
      "text/plain": [
       "motifsearch_greedy (generic function with 1 method)"
      ]
     },
     "execution_count": 2,
     "metadata": {},
     "output_type": "execute_result"
    }
   ],
   "source": [
    "function motifsearch_greedy(sequences, l)\n",
    "    \"\"\"\n",
    "    Given a 2D array of strings *sequences*, greedy \n",
    "    search for a motif of length *l*.\n",
    "    Return an array of indices corresponding to the \n",
    "    alignment found with the highest score.\n",
    "    \"\"\"\n",
    "    # TODO: Check that l <= sequence length\n",
    "    bestmotif = ones(Int32, 2)\n",
    "    \n",
    "    for s₁ = 1:length(sequences[1])-l+1\n",
    "        for s₂ = 1:length(sequences[2])-l+1\n",
    "            # find best partial alignment of first 2 sequences \n",
    "            if score(sequences, [s₁, s₂], l) > score(sequences, bestmotif, l)\n",
    "                bestmotif = [s₁, s₂]\n",
    "            end\n",
    "        end\n",
    "    end\n",
    "    s = copy(bestmotif)\n",
    "    \n",
    "    #iterate through the rest of the sequences\n",
    "    for i = 3:length(sequences)\n",
    "        # extend the default best motif\n",
    "        push!(bestmotif, 1)\n",
    "        for sᵢ = 1:length(sequences[i])-l+1\n",
    "            if score(sequences, [s..., sᵢ], l) > score(sequences, bestmotif, l)\n",
    "                # update the best motif\n",
    "                bestmotif[i] = sᵢ\n",
    "            end\n",
    "        end\n",
    "        push!(s, bestmotif[i])\n",
    "    end\n",
    "    return bestmotif\n",
    "end"
   ]
  },
  {
   "cell_type": "code",
   "execution_count": 3,
   "metadata": {},
   "outputs": [
    {
     "data": {
      "text/plain": [
       "5-element Array{Int64,1}:\n",
       " 4\n",
       " 2\n",
       " 5\n",
       " 6\n",
       " 6"
      ]
     },
     "metadata": {},
     "output_type": "display_data"
    },
    {
     "data": {
      "text/plain": [
       "5-element Array{Any,1}:\n",
       " \"GGATA\"\n",
       " \"GGATA\"\n",
       " \"GGATA\"\n",
       " \"GGATA\"\n",
       " \"GGATA\""
      ]
     },
     "metadata": {},
     "output_type": "display_data"
    },
    {
     "data": {
      "text/plain": [
       "4×5 Array{Int32,2}:\n",
       " 0  0  5  0  5\n",
       " 0  0  0  5  0\n",
       " 0  0  0  0  0\n",
       " 5  5  0  0  0"
      ]
     },
     "metadata": {},
     "output_type": "display_data"
    },
    {
     "data": {
      "text/plain": [
       "25"
      ]
     },
     "execution_count": 3,
     "metadata": {},
     "output_type": "execute_result"
    }
   ],
   "source": [
    "motif = motifsearch_greedy(seqs, l)\n",
    "alignment = align(seqs, motif, l)\n",
    "profile = getprofile(alignment)\n",
    "display(motif)\n",
    "display(alignment)\n",
    "display(profile)\n",
    "score(profile)"
   ]
  },
  {
   "cell_type": "markdown",
   "metadata": {
    "collapsed": true
   },
   "source": [
    "## Evaluating the Algorithm\n",
    "Simple performance metric for this greedy algorithm on synthetic data.\n",
    "\n",
    "The index error is the average number of indices that do not match the actual indices of the inserted motifs.\n",
    "\n",
    "The score error is the average score given to profiles found by motifsearch_greedy minus the maximum possible score for a correct alignment."
   ]
  },
  {
   "cell_type": "code",
   "execution_count": 6,
   "metadata": {},
   "outputs": [
    {
     "name": "stdout",
     "output_type": "stream",
     "text": [
      "Mean absolute index error: 6.000000\n",
      "Mean absolute score error: -4.900000\n"
     ]
    }
   ],
   "source": [
    "include(\"data.jl\")\n",
    "\n",
    "errs = []\n",
    "score_errs = []\n",
    "t = 20\n",
    "n = 300\n",
    "l = 15\n",
    "max_score = l*t\n",
    "for i = 1:20\n",
    "    # 10 sequences of length 20, motiflen 6, no mutations\n",
    "    seqs, motif, indices = gendata(t, n, l, 0)\n",
    "    predicted_indices = motifsearch_greedy(seqs, l)\n",
    "    err = sum(indices .!= predicted_indices)\n",
    "    score_err = score(seqs, predicted_indices, l) - max_score\n",
    "    push!(errs, err)\n",
    "    push!(score_errs, score_err)\n",
    "end\n",
    "@printf(\"Mean absolute index error: %f\\n\", mean(errs))\n",
    "@printf(\"Mean absolute score error: %f\\n\", mean(score_errs))"
   ]
  },
  {
   "cell_type": "code",
   "execution_count": null,
   "metadata": {
    "collapsed": true
   },
   "outputs": [],
   "source": []
  }
 ],
 "metadata": {
  "kernelspec": {
   "display_name": "Julia 0.6.0",
   "language": "julia",
   "name": "julia-0.6"
  },
  "language_info": {
   "file_extension": ".jl",
   "mimetype": "application/julia",
   "name": "julia",
   "version": "0.6.0"
  }
 },
 "nbformat": 4,
 "nbformat_minor": 2
}
