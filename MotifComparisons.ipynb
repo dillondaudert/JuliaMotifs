{
 "cells": [
  {
   "cell_type": "markdown",
   "metadata": {
    "collapsed": true
   },
   "source": [
    "# Evaluating the Algorithms\n",
    "Simple performance metric for this greedy algorithm on synthetic data.\n",
    "\n",
    "The index error is the average number of indices that do not match the actual indices of the inserted motifs.\n",
    "\n",
    "The score error is the average score given to profiles found by motifsearch_greedy minus the maximum possible score for a correct alignment."
   ]
  },
  {
   "cell_type": "code",
   "execution_count": 2,
   "metadata": {},
   "outputs": [
    {
     "name": "stderr",
     "output_type": "stream",
     "text": [
      "\u001b[1m\u001b[33mWARNING: \u001b[39m\u001b[22m\u001b[33mreplacing docs for 'motifsearch_greedy :: Tuple{Any,Any}' in module 'Main'.\u001b[39m\n",
      "\u001b[1m\u001b[33mWARNING: \u001b[39m\u001b[22m\u001b[33mreplacing docs for 'motifsearch_random :: Tuple{Any,Any}' in module 'Main'.\u001b[39m\n",
      "\u001b[1m\u001b[33mWARNING: \u001b[39m\u001b[22m\u001b[33mreplacing docs for 'motifsearch_gibbs :: Tuple{Any,Any,Any}' in module 'Main'.\u001b[39m\n"
     ]
    },
    {
     "data": {
      "text/plain": [
       "gendata"
      ]
     },
     "execution_count": 2,
     "metadata": {},
     "output_type": "execute_result"
    }
   ],
   "source": [
    "include(\"utils.jl\")\n",
    "include(\"search.jl\")\n",
    "include(\"data.jl\")"
   ]
  },
  {
   "cell_type": "code",
   "execution_count": 9,
   "metadata": {},
   "outputs": [
    {
     "name": "stdout",
     "output_type": "stream",
     "text": [
      "Greedy algorithm evaluating step 100\n",
      "Greedy algorithm evaluating step 200\n",
      "Greedy algorithm evaluating step 300\n",
      "Greedy algorithm evaluating step 400\n"
     ]
    },
    {
     "ename": "LoadError",
     "evalue": "\u001b[91mInterruptException:\u001b[39m",
     "output_type": "error",
     "traceback": [
      "\u001b[91mInterruptException:\u001b[39m",
      "",
      "Stacktrace:",
      " [1] \u001b[1mvect\u001b[22m\u001b[22m\u001b[1m(\u001b[22m\u001b[22m::Int64, ::Vararg{Int64,N} where N\u001b[1m)\u001b[22m\u001b[22m at \u001b[1m./array.jl:76\u001b[22m\u001b[22m",
      " [2] \u001b[1m#19\u001b[22m\u001b[22m at \u001b[1m./<missing>:0\u001b[22m\u001b[22m [inlined]",
      " [3] \u001b[1mnext\u001b[22m\u001b[22m at \u001b[1m./generator.jl:45\u001b[22m\u001b[22m [inlined]",
      " [4] \u001b[1mmapfoldl_impl\u001b[22m\u001b[22m\u001b[1m(\u001b[22m\u001b[22m::Base.#identity, ::Base.#*, ::Float64, ::Base.Generator{UnitRange{Int64},##19#20{String,Array{Float64,2}}}, ::Int64\u001b[1m)\u001b[22m\u001b[22m at \u001b[1m./reduce.jl:45\u001b[22m\u001b[22m",
      " [5] \u001b[1mmapfoldl\u001b[22m\u001b[22m\u001b[1m(\u001b[22m\u001b[22m::Base.#identity, ::Function, ::Base.Generator{UnitRange{Int64},##19#20{String,Array{Float64,2}}}\u001b[1m)\u001b[22m\u001b[22m at \u001b[1m./reduce.jl:73\u001b[22m\u001b[22m",
      " [6] \u001b[1mprobscore\u001b[22m\u001b[22m\u001b[1m(\u001b[22m\u001b[22m::String, ::Array{Int32,2}\u001b[1m)\u001b[22m\u001b[22m at \u001b[1m/home/dillon/projects/JuliaMotifs/utils.jl:53\u001b[22m\u001b[22m",
      " [7] \u001b[1mcollect_to!\u001b[22m\u001b[22m\u001b[1m(\u001b[22m\u001b[22m::Array{Float64,1}, ::Base.Generator{Array{String,1},##21#23}, ::Int64, ::Int64\u001b[1m)\u001b[22m\u001b[22m at \u001b[1m./array.jl:474\u001b[22m\u001b[22m",
      " [8] \u001b[1m_collect\u001b[22m\u001b[22m\u001b[1m(\u001b[22m\u001b[22m::Array{String,1}, ::Base.Generator{Array{String,1},##21#23}, ::Base.EltypeUnknown, ::Base.HasShape\u001b[1m)\u001b[22m\u001b[22m at \u001b[1m./array.jl:455\u001b[22m\u001b[22m",
      " [9] \u001b[1mmotifsearch_random\u001b[22m\u001b[22m\u001b[1m(\u001b[22m\u001b[22m::Array{String,1}, ::Int64\u001b[1m)\u001b[22m\u001b[22m at \u001b[1m/home/dillon/projects/JuliaMotifs/search.jl:63\u001b[22m\u001b[22m",
      " [10] \u001b[1mmacro expansion\u001b[22m\u001b[22m at \u001b[1m./In[9]:11\u001b[22m\u001b[22m [inlined]",
      " [11] \u001b[1manonymous\u001b[22m\u001b[22m at \u001b[1m./<missing>:?\u001b[22m\u001b[22m",
      " [12] \u001b[1minclude_string\u001b[22m\u001b[22m\u001b[1m(\u001b[22m\u001b[22m::String, ::String\u001b[1m)\u001b[22m\u001b[22m at \u001b[1m./loading.jl:515\u001b[22m\u001b[22m"
     ]
    }
   ],
   "source": [
    "# generate synthetic data, random counts, lengths, motif lengths, and number of mutations\n",
    "data = [gendata(rand(15:25), rand(200:300), rand(15:25), rand(0:3)) for i = 1:1000]\n",
    "\n",
    "# get the mean score of each algorithm on this data\n",
    "greedy_scores = []\n",
    "\n",
    "i = 1\n",
    "for (seqs, motif, inds) in data\n",
    "    motiflen = length(motif)\n",
    "    truescore = score(seqs, inds, motiflen)\n",
    "    push!(greedy_scores, score(seqs, motifsearch_random(seqs, motiflen), motiflen) / truescore)\n",
    "    if i % 100 == 0\n",
    "        @printf(\"Greedy algorithm evaluating step %d\\n\", i)\n",
    "    end\n",
    "    i += 1\n",
    "end\n",
    "mean(greedy_scores)"
   ]
  },
  {
   "cell_type": "code",
   "execution_count": null,
   "metadata": {
    "collapsed": true
   },
   "outputs": [],
   "source": []
  }
 ],
 "metadata": {
  "kernelspec": {
   "display_name": "Julia 0.6.0",
   "language": "julia",
   "name": "julia-0.6"
  },
  "language_info": {
   "file_extension": ".jl",
   "mimetype": "application/julia",
   "name": "julia",
   "version": "0.6.0"
  }
 },
 "nbformat": 4,
 "nbformat_minor": 2
}
