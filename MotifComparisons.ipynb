{
 "cells": [
  {
   "cell_type": "markdown",
   "metadata": {
    "collapsed": true
   },
   "source": [
    "# Evaluating the Algorithms\n",
    "Simple performance metric for this greedy algorithm on synthetic data.\n",
    "\n",
    "The index error is the average number of indices that do not match the actual indices of the inserted motifs.\n",
    "\n",
    "The score error is the average score given to profiles found by motifsearch_greedy minus the maximum possible score for a correct alignment."
   ]
  },
  {
   "cell_type": "code",
   "execution_count": 2,
   "metadata": {},
   "outputs": [
    {
     "data": {
      "text/plain": [
       "gendata"
      ]
     },
     "execution_count": 2,
     "metadata": {},
     "output_type": "execute_result"
    }
   ],
   "source": [
    "include(\"utils.jl\")\n",
    "include(\"search.jl\")\n",
    "include(\"data.jl\")"
   ]
  },
  {
   "cell_type": "code",
   "execution_count": 3,
   "metadata": {},
   "outputs": [
    {
     "name": "stdout",
     "output_type": "stream",
     "text": [
      "Evaluating step 10\n",
      "Evaluating step 20\n",
      "Evaluating step 30\n",
      "Evaluating step 40\n",
      "Evaluating step 50\n",
      "Evaluating step 60\n",
      "Evaluating step 70\n",
      "Evaluating step 80\n",
      "Evaluating step 90\n",
      "Evaluating step 100\n",
      "Mean greedy score: 0.975812\n",
      "Mean random score: 0.636016\n",
      "Mean gibbs score: 0.618543\n"
     ]
    }
   ],
   "source": [
    "# generate synthetic data, random counts, lengths, motif lengths, and number of mutations\n",
    "data = [gendata(rand(15:25), rand(200:300), rand(15:25), rand(0:3)) for i = 1:100]\n",
    "\n",
    "# get the mean score of each algorithm on this data\n",
    "greedy_scores = []\n",
    "random_scores = []\n",
    "gibbs_scores = []\n",
    "\n",
    "i = 1\n",
    "for (seqs, motif, inds) in data\n",
    "    motiflen = length(motif)\n",
    "    truescore = score(seqs, inds, motiflen)\n",
    "    push!(greedy_scores, score(seqs, motifsearch_greedy(seqs, motiflen), motiflen) / truescore)\n",
    "    push!(random_scores, score(seqs, motifsearch_random(seqs, motiflen), motiflen) / truescore)\n",
    "    push!(gibbs_scores, score(seqs, motifsearch_gibbs(seqs, motiflen, 15), motiflen) / truescore)\n",
    "    if i % 10 == 0\n",
    "        @printf(\"Evaluating step %d\\n\", i)\n",
    "    end\n",
    "    i += 1\n",
    "end\n",
    "@printf(\"Mean greedy score: %g\\n\", mean(greedy_scores))\n",
    "@printf(\"Mean random score: %g\\n\", mean(random_scores))\n",
    "@printf(\"Mean gibbs score: %g\\n\", mean(gibbs_scores))"
   ]
  },
  {
   "cell_type": "code",
   "execution_count": 5,
   "metadata": {},
   "outputs": [
    {
     "name": "stdout",
     "output_type": "stream",
     "text": [
      "Greedy 160, Random 141, Gibbs 117\n"
     ]
    }
   ],
   "source": [
    "# evaluate on a real set of data\n",
    "include(\"ex_data/metallothionein.jl\")\n",
    "\n",
    "# look for motifs of length 8\n",
    "greedy_score = score(met_seqs, motifsearch_greedy(met_seqs, 8), 8)\n",
    "random_score = score(met_seqs, motifsearch_random(met_seqs, 8), 8)\n",
    "gibbs_score = score(met_seqs, motifsearch_gibbs(met_seqs, 8, 15), 8)\n",
    "\n",
    "@printf(\"Greedy %g, Random %g, Gibbs %g\\n\", greedy_score, random_score, gibbs_score)"
   ]
  }
 ],
 "metadata": {
  "kernelspec": {
   "display_name": "Julia 0.6.0",
   "language": "julia",
   "name": "julia-0.6"
  },
  "language_info": {
   "file_extension": ".jl",
   "mimetype": "application/julia",
   "name": "julia",
   "version": "0.6.0"
  }
 },
 "nbformat": 4,
 "nbformat_minor": 2
}
