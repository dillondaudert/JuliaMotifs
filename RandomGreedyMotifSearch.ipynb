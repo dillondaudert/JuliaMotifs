{
 "cells": [
  {
   "cell_type": "markdown",
   "metadata": {},
   "source": [
    "# Greedy Algorithm for Motif Finding\n",
    "\n",
    "This is randomized greedy algorithm."
   ]
  },
  {
   "cell_type": "code",
   "execution_count": 1,
   "metadata": {
    "collapsed": true
   },
   "outputs": [],
   "source": [
    "include(\"utils.jl\")\n",
    "# utils.jl has the align, getprofile, score, and probscore utility functions:\n",
    "\n",
    "seqs = [\"AGTGGATACC\", # motif inserted at 4\n",
    "        \"AGGATATAGT\", # 2\n",
    "        \"AGGAGGATAT\", # 5\n",
    "        \"GCAGCGGATA\", # 5\n",
    "        \"CATCAGGATA\"] # 6\n",
    "s = [1, 1, 1, 1, 1]\n",
    "l = 5;"
   ]
  },
  {
   "cell_type": "code",
   "execution_count": 2,
   "metadata": {},
   "outputs": [
    {
     "data": {
      "text/plain": [
       "motifsearch_random (generic function with 1 method)"
      ]
     },
     "execution_count": 2,
     "metadata": {},
     "output_type": "execute_result"
    }
   ],
   "source": [
    "function motifsearch_random(sequences, l)\n",
    "    \"\"\"\n",
    "    Given a 2D array of strings *sequences*, randomized greedy \n",
    "    search for a motif of length *l*.\n",
    "    Return an array of indices corresponding to the \n",
    "    alignment found with the highest score.\n",
    "    \"\"\"\n",
    "    # TODO: Check that l <= sequence length\n",
    "    \n",
    "    n = length(sequences[1])\n",
    "    \n",
    "    # generate an initial random alignment\n",
    "    s = rand(1:n-l+1, length(sequences))\n",
    "    \n",
    "    # form profile P from s\n",
    "    P = getprofile(align(sequences, s, l))\n",
    "    \n",
    "    bestscore = 0\n",
    "    newscore = score(P)\n",
    "    while newscore > bestscore\n",
    "        bestscore = newscore\n",
    "        for i = 1:length(sequences)\n",
    "            # find a P-most probable l-mer from the ith sequence\n",
    "            a = map(x -> probscore(x, P), [sequences[i][j:j+l-1] for j=1:n-l+1])\n",
    "            # update the starting index for sᵢ\n",
    "            s[i] = indmax(a)\n",
    "            # recalculate the profile\n",
    "            P = getprofile(align(sequences, s, l))\n",
    "            newscore = score(P)\n",
    "        end\n",
    "    end\n",
    "    \n",
    "    return s\n",
    "end"
   ]
  },
  {
   "cell_type": "code",
   "execution_count": 3,
   "metadata": {},
   "outputs": [
    {
     "data": {
      "text/plain": [
       "5-element Array{Int64,1}:\n",
       " 4\n",
       " 2\n",
       " 5\n",
       " 6\n",
       " 6"
      ]
     },
     "metadata": {},
     "output_type": "display_data"
    },
    {
     "data": {
      "text/plain": [
       "5-element Array{Any,1}:\n",
       " \"GGATA\"\n",
       " \"GGATA\"\n",
       " \"GGATA\"\n",
       " \"GGATA\"\n",
       " \"GGATA\""
      ]
     },
     "metadata": {},
     "output_type": "display_data"
    },
    {
     "data": {
      "text/plain": [
       "4×5 Array{Int32,2}:\n",
       " 0  0  5  0  5\n",
       " 0  0  0  5  0\n",
       " 0  0  0  0  0\n",
       " 5  5  0  0  0"
      ]
     },
     "metadata": {},
     "output_type": "display_data"
    },
    {
     "data": {
      "text/plain": [
       "25"
      ]
     },
     "execution_count": 3,
     "metadata": {},
     "output_type": "execute_result"
    }
   ],
   "source": [
    "motif = motifsearch_random(seqs, l)\n",
    "alignment = align(seqs, motif, l)\n",
    "profile = getprofile(alignment)\n",
    "display(motif)\n",
    "display(alignment)\n",
    "display(profile)\n",
    "score(profile)"
   ]
  }
 ],
 "metadata": {
  "kernelspec": {
   "display_name": "Julia 0.6.0",
   "language": "julia",
   "name": "julia-0.6"
  },
  "language_info": {
   "file_extension": ".jl",
   "mimetype": "application/julia",
   "name": "julia",
   "version": "0.6.0"
  }
 },
 "nbformat": 4,
 "nbformat_minor": 2
}
