{
 "cells": [
  {
   "cell_type": "markdown",
   "metadata": {},
   "source": [
    "# Randomized Greedy Algorithm for Motif Finding\n",
    "\n",
    "This is randomized greedy algorithm."
   ]
  },
  {
   "cell_type": "code",
   "execution_count": 1,
   "metadata": {
    "collapsed": true
   },
   "outputs": [],
   "source": [
    "include(\"utils.jl\")\n",
    "# utils.jl has the align, getprofile, score, and probscore utility functions:\n",
    "\n",
    "seqs = [\"AGTGGATACC\", # motif inserted at 4\n",
    "        \"AGGATATAGT\", # 2\n",
    "        \"AGGAGGATAT\", # 5\n",
    "        \"GCAGCGGATA\", # 5\n",
    "        \"CATCAGGATA\"] # 6\n",
    "s = [1, 1, 1, 1, 1]\n",
    "l = 5;"
   ]
  },
  {
   "cell_type": "code",
   "execution_count": 2,
   "metadata": {},
   "outputs": [
    {
     "data": {
      "text/plain": [
       "motifsearch_random (generic function with 1 method)"
      ]
     },
     "execution_count": 2,
     "metadata": {},
     "output_type": "execute_result"
    }
   ],
   "source": [
    "function motifsearch_random(sequences, l)\n",
    "    \"\"\"\n",
    "    Given a 2D array of strings *sequences*, randomized greedy \n",
    "    search for a motif of length *l*.\n",
    "    Return an array of indices corresponding to the \n",
    "    alignment found with the highest score.\n",
    "    \"\"\"\n",
    "    # TODO: Check that l <= sequence length\n",
    "    \n",
    "    n = length(sequences[1])\n",
    "    \n",
    "    # generate an initial random alignment\n",
    "    s = rand(1:n-l+1, length(sequences))\n",
    "    \n",
    "    # form profile P from s\n",
    "    P = getprofile(align(sequences, s, l))\n",
    "    \n",
    "    bestscore = 0\n",
    "    newscore = score(P)\n",
    "    while newscore > bestscore\n",
    "        bestscore = newscore\n",
    "        for i = 1:length(sequences)\n",
    "            # find a P-most probable l-mer from the ith sequence\n",
    "            a = map(x -> probscore(x, P), [sequences[i][j:j+l-1] for j=1:n-l+1])\n",
    "            # update the starting index for sᵢ\n",
    "            s[i] = indmax(a)\n",
    "        end\n",
    "        # recalculate the profile\n",
    "        P = getprofile(align(sequences, s, l))\n",
    "        newscore = score(P)\n",
    "    end\n",
    "    \n",
    "    return s\n",
    "end"
   ]
  },
  {
   "cell_type": "code",
   "execution_count": 3,
   "metadata": {},
   "outputs": [
    {
     "data": {
      "text/plain": [
       "5-element Array{Int64,1}:\n",
       " 4\n",
       " 2\n",
       " 5\n",
       " 6\n",
       " 6"
      ]
     },
     "metadata": {},
     "output_type": "display_data"
    },
    {
     "data": {
      "text/plain": [
       "5-element Array{Any,1}:\n",
       " \"GGATA\"\n",
       " \"GGATA\"\n",
       " \"GGATA\"\n",
       " \"GGATA\"\n",
       " \"GGATA\""
      ]
     },
     "metadata": {},
     "output_type": "display_data"
    },
    {
     "data": {
      "text/plain": [
       "4×5 Array{Int32,2}:\n",
       " 0  0  5  0  5\n",
       " 0  0  0  5  0\n",
       " 0  0  0  0  0\n",
       " 5  5  0  0  0"
      ]
     },
     "metadata": {},
     "output_type": "display_data"
    },
    {
     "data": {
      "text/plain": [
       "25"
      ]
     },
     "execution_count": 3,
     "metadata": {},
     "output_type": "execute_result"
    }
   ],
   "source": [
    "motif = motifsearch_random(seqs, l)\n",
    "alignment = align(seqs, motif, l)\n",
    "profile = getprofile(alignment)\n",
    "display(motif)\n",
    "display(alignment)\n",
    "display(profile)\n",
    "score(profile)"
   ]
  },
  {
   "cell_type": "markdown",
   "metadata": {},
   "source": [
    "## Evaluating the Algorithm\n",
    "Simple performance metric for this randomized greedy algorithm on synthetic data.\n",
    "\n",
    "The index error is the average number of indices that do not match the actual indices of the inserted motifs.\n",
    "\n",
    "The score error is the average score given to profiles found by motifsearch_random minus the maximum possible score for a correct alignment."
   ]
  },
  {
   "cell_type": "code",
   "execution_count": 8,
   "metadata": {},
   "outputs": [
    {
     "name": "stdout",
     "output_type": "stream",
     "text": [
      "2020202020202020202020202020202020202020Mean absolute index error: 19.000000\n",
      "Mean absolute score error: -100.550000\n"
     ]
    }
   ],
   "source": [
    "include(\"data.jl\")\n",
    "\n",
    "errs = []\n",
    "score_errs = []\n",
    "t = 20\n",
    "n = 300\n",
    "l = 15\n",
    "max_score = l*t\n",
    "for i = 1:20\n",
    "    \n",
    "    seqs, motif, indices = gendata(t, n, l, 0)\n",
    "    predicted_indices = motifsearch_random(seqs, l)\n",
    "    print(length(predicted_indices))\n",
    "    err = sum(indices .!= predicted_indices)\n",
    "\n",
    "    score_err = score(seqs, predicted_indices, l) - max_score\n",
    "    push!(errs, err)\n",
    "    push!(score_errs, score_err)\n",
    "end\n",
    "@printf(\"Mean absolute index error: %f\\n\", mean(errs))\n",
    "@printf(\"Mean absolute score error: %f\\n\", mean(score_errs))"
   ]
  },
  {
   "cell_type": "code",
   "execution_count": null,
   "metadata": {
    "collapsed": true
   },
   "outputs": [],
   "source": []
  }
 ],
 "metadata": {
  "kernelspec": {
   "display_name": "Julia 0.6.0",
   "language": "julia",
   "name": "julia-0.6"
  },
  "language_info": {
   "file_extension": ".jl",
   "mimetype": "application/julia",
   "name": "julia",
   "version": "0.6.0"
  }
 },
 "nbformat": 4,
 "nbformat_minor": 2
}
